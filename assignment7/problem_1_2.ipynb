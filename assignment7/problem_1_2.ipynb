{
 "cells": [
  {
   "cell_type": "code",
   "execution_count": 135,
   "metadata": {},
   "outputs": [],
   "source": [
    "from sympy import *"
   ]
  },
  {
   "cell_type": "code",
   "execution_count": 136,
   "metadata": {},
   "outputs": [],
   "source": [
    "init_printing(\"mathjax\")"
   ]
  },
  {
   "cell_type": "code",
   "execution_count": 137,
   "metadata": {},
   "outputs": [],
   "source": [
    "import itertools"
   ]
  },
  {
   "cell_type": "markdown",
   "metadata": {},
   "source": [
    "# Problem 1"
   ]
  },
  {
   "cell_type": "markdown",
   "metadata": {},
   "source": [
    "## (a)"
   ]
  },
  {
   "cell_type": "code",
   "execution_count": 138,
   "metadata": {},
   "outputs": [
    {
     "data": {
      "image/png": "[encoded data removed]",
      "text/latex": [
       "$$\\left\\{0, 1, 2\\right\\}$$"
      ],
      "text/plain": [
       "{0, 1, 2}"
      ]
     },
     "execution_count": 138,
     "metadata": {},
     "output_type": "execute_result"
    }
   ],
   "source": [
    "p = 3\n",
    "Z_p = set(range(p))\n",
    "Z_p"
   ]
  },
  {
   "cell_type": "code",
   "execution_count": 139,
   "metadata": {},
   "outputs": [
    {
     "data": {
      "image/png": "[encoded data removed]",
      "text/latex": [
       "$$\\left\\{\\left ( 0, \\quad 0\\right ), \\left ( 0, \\quad 1\\right ), \\left ( 0, \\quad 2\\right ), \\left ( 1, \\quad 0\\right ), \\left ( 1, \\quad 1\\right ), \\left ( 1, \\quad 2\\right ), \\left ( 2, \\quad 0\\right ), \\left ( 2, \\quad 1\\right ), \\left ( 2, \\quad 2\\right )\\right\\}$$"
      ],
      "text/plain": [
       "{(0, 0), (0, 1), (0, 2), (1, 0), (1, 1), (1, 2), (2, 0), (2, 1), (2, 2)}"
      ]
     },
     "execution_count": 139,
     "metadata": {},
     "output_type": "execute_result"
    }
   ],
   "source": [
    "s1 = set(itertools.product(Z_p, Z_p))\n",
    "s1"
   ]
  },
  {
   "cell_type": "code",
   "execution_count": 140,
   "metadata": {},
   "outputs": [
    {
     "data": {
      "image/png": "[encoded data removed]",
      "text/latex": [
       "$$\\left\\{\\left ( 0, \\quad 0\\right ), \\left ( 0, \\quad 1\\right ), \\left ( 0, \\quad 2\\right ), \\left ( 1, \\quad 1\\right ), \\left ( 1, \\quad 2\\right ), \\left ( 2, \\quad 0\\right )\\right\\}$$"
      ],
      "text/plain": [
       "{(0, 0), (0, 1), (0, 2), (1, 1), (1, 2), (2, 0)}"
      ]
     },
     "execution_count": 140,
     "metadata": {},
     "output_type": "execute_result"
    }
   ],
   "source": [
    "s2 = {((a*b)%p, (a+b)%p) for (a, b) in itertools.product(Z_p, Z_p)}\n",
    "s2"
   ]
  },
  {
   "cell_type": "code",
   "execution_count": 141,
   "metadata": {},
   "outputs": [
    {
     "data": {
      "image/png": "[encoded data removed]",
      "text/latex": [
       "$$\\left\\{\\left ( 1, \\quad 0\\right ), \\left ( 2, \\quad 1\\right ), \\left ( 2, \\quad 2\\right )\\right\\}$$"
      ],
      "text/plain": [
       "{(1, 0), (2, 1), (2, 2)}"
      ]
     },
     "execution_count": 141,
     "metadata": {},
     "output_type": "execute_result"
    }
   ],
   "source": [
    "s1.difference(s2)"
   ]
  },
  {
   "cell_type": "markdown",
   "metadata": {},
   "source": [
    "## (b)"
   ]
  },
  {
   "cell_type": "code",
   "execution_count": 164,
   "metadata": {},
   "outputs": [
    {
     "data": {
      "image/png": "[encoded data removed]",
      "text/latex": [
       "$$3$$"
      ],
      "text/plain": [
       "3"
      ]
     },
     "execution_count": 164,
     "metadata": {},
     "output_type": "execute_result"
    }
   ],
   "source": [
    "p"
   ]
  },
  {
   "cell_type": "code",
   "execution_count": 142,
   "metadata": {},
   "outputs": [],
   "source": [
    "from sympy.polys.galoistools import *"
   ]
  },
  {
   "cell_type": "code",
   "execution_count": 151,
   "metadata": {},
   "outputs": [],
   "source": [
    "from sympy.polys.domains import ZZ"
   ]
  },
  {
   "cell_type": "code",
   "execution_count": 152,
   "metadata": {},
   "outputs": [],
   "source": [
    "x = symbols(\"x\", integer=True)"
   ]
  },
  {
   "cell_type": "code",
   "execution_count": 153,
   "metadata": {},
   "outputs": [],
   "source": [
    "f = ZZ.map([1, 0, 1])"
   ]
  },
  {
   "cell_type": "code",
   "execution_count": 195,
   "metadata": {},
   "outputs": [],
   "source": [
    "def P(coeffs, x):\n",
    "    coeffs_reversed = list(reversed(coeffs))\n",
    "    return sum(coeffs_reversed[i] * x**i for i in range(len(coeffs)))"
   ]
  },
  {
   "cell_type": "code",
   "execution_count": 197,
   "metadata": {},
   "outputs": [],
   "source": [
    "elements = list(ZZ.map([a, b]) for a in Z_p for b in Z_p)"
   ]
  },
  {
   "cell_type": "code",
   "execution_count": 198,
   "metadata": {},
   "outputs": [
    {
     "data": {
      "text/plain": [
       "[[mpz(0), mpz(0)],\n",
       " [mpz(0), mpz(1)],\n",
       " [mpz(0), mpz(2)],\n",
       " [mpz(1), mpz(0)],\n",
       " [mpz(1), mpz(1)],\n",
       " [mpz(1), mpz(2)],\n",
       " [mpz(2), mpz(0)],\n",
       " [mpz(2), mpz(1)],\n",
       " [mpz(2), mpz(2)]]"
      ]
     },
     "execution_count": 198,
     "metadata": {},
     "output_type": "execute_result"
    }
   ],
   "source": [
    "elements"
   ]
  },
  {
   "cell_type": "code",
   "execution_count": 203,
   "metadata": {},
   "outputs": [
    {
     "data": {
      "image/png": "[encoded data removed]",
      "text/latex": [
       "$$\\left\\{0, 1, 2, x, 2 x, x + 1, x + 2, 2 x + 1, 2 x + 2\\right\\}$$"
      ],
      "text/plain": [
       "{0, 1, 2, x, 2⋅x, x + 1, x + 2, 2⋅x + 1, 2⋅x + 2}"
      ]
     },
     "execution_count": 203,
     "metadata": {},
     "output_type": "execute_result"
    }
   ],
   "source": [
    "set([P(a, x) for a in elements])"
   ]
  },
  {
   "cell_type": "markdown",
   "metadata": {},
   "source": [
    "### Addition Table"
   ]
  },
  {
   "cell_type": "code",
   "execution_count": 200,
   "metadata": {},
   "outputs": [
    {
     "data": {
      "image/png": "[encoded data removed]",
      "text/latex": [
       "$$\\left[\\begin{matrix}0 & 1 & 2 & x & x + 1 & x + 2 & 2 x & 2 x + 1 & 2 x + 2\\\\1 & 2 & 0 & x + 1 & x + 2 & x & 2 x + 1 & 2 x + 2 & 2 x\\\\2 & 0 & 1 & x + 2 & x & x + 1 & 2 x + 2 & 2 x & 2 x + 1\\\\x & x + 1 & x + 2 & 2 x & 2 x + 1 & 2 x + 2 & 0 & 1 & 2\\\\x + 1 & x + 2 & x & 2 x + 1 & 2 x + 2 & 2 x & 1 & 2 & 0\\\\x + 2 & x & x + 1 & 2 x + 2 & 2 x & 2 x + 1 & 2 & 0 & 1\\\\2 x & 2 x + 1 & 2 x + 2 & 0 & 1 & 2 & x & x + 1 & x + 2\\\\2 x + 1 & 2 x + 2 & 2 x & 1 & 2 & 0 & x + 1 & x + 2 & x\\\\2 x + 2 & 2 x & 2 x + 1 & 2 & 0 & 1 & x + 2 & x & x + 1\\end{matrix}\\right]$$"
      ],
      "text/plain": [
       "⎡   0        1        2        x      x + 1    x + 2     2⋅x    2⋅x + 1  2⋅x +\n",
       "⎢                                                                             \n",
       "⎢   1        2        0      x + 1    x + 2      x     2⋅x + 1  2⋅x + 2    2⋅x\n",
       "⎢                                                                             \n",
       "⎢   2        0        1      x + 2      x      x + 1   2⋅x + 2    2⋅x    2⋅x +\n",
       "⎢                                                                             \n",
       "⎢   x      x + 1    x + 2     2⋅x    2⋅x + 1  2⋅x + 2     0        1        2 \n",
       "⎢                                                                             \n",
       "⎢ x + 1    x + 2      x     2⋅x + 1  2⋅x + 2    2⋅x       1        2        0 \n",
       "⎢                                                                             \n",
       "⎢ x + 2      x      x + 1   2⋅x + 2    2⋅x    2⋅x + 1     2        0        1 \n",
       "⎢                                                                             \n",
       "⎢  2⋅x    2⋅x + 1  2⋅x + 2     0        1        2        x      x + 1    x + \n",
       "⎢                                                                             \n",
       "⎢2⋅x + 1  2⋅x + 2    2⋅x       1        2        0      x + 1    x + 2      x \n",
       "⎢                                                                             \n",
       "⎣2⋅x + 2    2⋅x    2⋅x + 1     2        0        1      x + 2      x      x + \n",
       "\n",
       " 2⎤\n",
       "  ⎥\n",
       "  ⎥\n",
       "  ⎥\n",
       " 1⎥\n",
       "  ⎥\n",
       "  ⎥\n",
       "  ⎥\n",
       "  ⎥\n",
       "  ⎥\n",
       "  ⎥\n",
       "  ⎥\n",
       "2 ⎥\n",
       "  ⎥\n",
       "  ⎥\n",
       "  ⎥\n",
       "1 ⎦"
      ]
     },
     "execution_count": 200,
     "metadata": {},
     "output_type": "execute_result"
    }
   ],
   "source": [
    "Matrix([[P(gf_add(a, b, p, ZZ), x) for a in elements] for b in elements])"
   ]
  },
  {
   "cell_type": "markdown",
   "metadata": {},
   "source": [
    "### Multiplication Table"
   ]
  },
  {
   "cell_type": "code",
   "execution_count": 202,
   "metadata": {},
   "outputs": [
    {
     "data": {
      "image/png": "[encoded data removed]",
      "text/latex": [
       "$$\\left[\\begin{matrix}0 & 0 & 0 & 0 & 0 & 0 & 0 & 0 & 0\\\\0 & 1 & 2 & x & x + 1 & x + 2 & 2 x & 2 x + 1 & 2 x + 2\\\\0 & 2 & 1 & 2 x & 2 x + 2 & 2 x + 1 & x & x + 2 & x + 1\\\\0 & x & 2 x & 2 & x + 2 & 2 x + 2 & 1 & x + 1 & 2 x + 1\\\\0 & x + 1 & 2 x + 2 & x + 2 & 2 x & 1 & 2 x + 1 & 2 & x\\\\0 & x + 2 & 2 x + 1 & 2 x + 2 & 1 & x & x + 1 & 2 x & 2\\\\0 & 2 x & x & 1 & 2 x + 1 & x + 1 & 2 & 2 x + 2 & x + 2\\\\0 & 2 x + 1 & x + 2 & x + 1 & 2 & 2 x & 2 x + 2 & x & 1\\\\0 & 2 x + 2 & x + 1 & 2 x + 1 & x & 2 & x + 2 & 1 & 2 x\\end{matrix}\\right]$$"
      ],
      "text/plain": [
       "⎡0     0        0        0        0        0        0        0        0   ⎤\n",
       "⎢                                                                         ⎥\n",
       "⎢0     1        2        x      x + 1    x + 2     2⋅x    2⋅x + 1  2⋅x + 2⎥\n",
       "⎢                                                                         ⎥\n",
       "⎢0     2        1       2⋅x    2⋅x + 2  2⋅x + 1     x      x + 2    x + 1 ⎥\n",
       "⎢                                                                         ⎥\n",
       "⎢0     x       2⋅x       2      x + 2   2⋅x + 2     1      x + 1   2⋅x + 1⎥\n",
       "⎢                                                                         ⎥\n",
       "⎢0   x + 1   2⋅x + 2   x + 2     2⋅x       1     2⋅x + 1     2        x   ⎥\n",
       "⎢                                                                         ⎥\n",
       "⎢0   x + 2   2⋅x + 1  2⋅x + 2     1        x      x + 1     2⋅x       2   ⎥\n",
       "⎢                                                                         ⎥\n",
       "⎢0    2⋅x       x        1     2⋅x + 1   x + 1      2     2⋅x + 2   x + 2 ⎥\n",
       "⎢                                                                         ⎥\n",
       "⎢0  2⋅x + 1   x + 2    x + 1      2       2⋅x    2⋅x + 2     x        1   ⎥\n",
       "⎢                                                                         ⎥\n",
       "⎣0  2⋅x + 2   x + 1   2⋅x + 1     x        2      x + 2      1       2⋅x  ⎦"
      ]
     },
     "execution_count": 202,
     "metadata": {},
     "output_type": "execute_result"
    }
   ],
   "source": [
    "Matrix([[P(gf_rem(gf_mul(a, b, p, ZZ), f, p, ZZ), x) for a in elements] for b in elements])"
   ]
  },
  {
   "cell_type": "markdown",
   "metadata": {},
   "source": [
    "# Problem 2"
   ]
  }
 ],
 "metadata": {
  "kernelspec": {
   "display_name": "Python [default]",
   "language": "python",
   "name": "python3"
  },
  "language_info": {
   "codemirror_mode": {
    "name": "ipython",
    "version": 3
   },
   "file_extension": ".py",
   "mimetype": "text/x-python",
   "name": "python",
   "nbconvert_exporter": "python",
   "pygments_lexer": "ipython3",
   "version": "3.6.6"
  }
 },
 "nbformat": 4,
 "nbformat_minor": 2
}
