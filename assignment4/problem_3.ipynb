{
 "cells": [
  {
   "cell_type": "markdown",
   "metadata": {},
   "source": [
    "# Problem 3"
   ]
  },
  {
   "cell_type": "code",
   "execution_count": 2,
   "metadata": {},
   "outputs": [],
   "source": [
    "from sympy import *\n",
    "init_printing(\"mathjax\")"
   ]
  },
  {
   "cell_type": "code",
   "execution_count": 27,
   "metadata": {},
   "outputs": [],
   "source": [
    "e,i,n = symbols(\"e,i,n\", integer=True, positive=True)"
   ]
  },
  {
   "cell_type": "code",
   "execution_count": 34,
   "metadata": {},
   "outputs": [
    {
     "data": {
      "image/png": "[encoded data removed]",
      "text/latex": [
       "$$\\frac{2^{i} 2^{- i + \\frac{\\log{\\left (e \\right )}}{\\log{\\left (2 \\right )}}} \\log{\\left (e - i \\right )}}{\\log{\\left (2 \\right )}}$$"
      ],
      "text/plain": [
       "         log(e)           \n",
       "    -i + ──────           \n",
       " i       log(2)           \n",
       "2 ⋅2           ⋅log(e - i)\n",
       "──────────────────────────\n",
       "          log(2)          "
      ]
     },
     "execution_count": 34,
     "metadata": {},
     "output_type": "execute_result"
    }
   ],
   "source": [
    "2**i*2**(log(e, 2)-i)*log(2**log(e,2)-i,2)"
   ]
  },
  {
   "cell_type": "code",
   "execution_count": 35,
   "metadata": {},
   "outputs": [
    {
     "data": {
      "image/png": "[encoded data removed]",
      "text/latex": [
       "$$\\frac{e \\log{\\left (e - i \\right )}}{\\log{\\left (2 \\right )}}$$"
      ],
      "text/plain": [
       "e⋅log(e - i)\n",
       "────────────\n",
       "   log(2)   "
      ]
     },
     "execution_count": 35,
     "metadata": {},
     "output_type": "execute_result"
    }
   ],
   "source": [
    "simplify(_)"
   ]
  },
  {
   "cell_type": "code",
   "execution_count": 36,
   "metadata": {},
   "outputs": [
    {
     "data": {
      "image/png": "[encoded data removed]",
      "text/latex": [
       "$$\\sum_{i=0}^{\\frac{\\log{\\left (e \\right )}}{\\log{\\left (2 \\right )}}} \\frac{e \\log{\\left (e - i \\right )}}{\\log{\\left (2 \\right )}}$$"
      ],
      "text/plain": [
       "log(e)             \n",
       "──────             \n",
       "log(2)             \n",
       " ____              \n",
       " ╲                 \n",
       "  ╲    e⋅log(e - i)\n",
       "   ╲   ────────────\n",
       "   ╱      log(2)   \n",
       "  ╱                \n",
       " ╱                 \n",
       " ‾‾‾‾              \n",
       "False              "
      ]
     },
     "execution_count": 36,
     "metadata": {},
     "output_type": "execute_result"
    }
   ],
   "source": [
    "Sum(_, (i, 0, log(e, 2)))"
   ]
  }
 ],
 "metadata": {
  "kernelspec": {
   "display_name": "Python [default]",
   "language": "python",
   "name": "python3"
  },
  "language_info": {
   "codemirror_mode": {
    "name": "ipython",
    "version": 3
   },
   "file_extension": ".py",
   "mimetype": "text/x-python",
   "name": "python",
   "nbconvert_exporter": "python",
   "pygments_lexer": "ipython3",
   "version": "3.6.6"
  }
 },
 "nbformat": 4,
 "nbformat_minor": 2
}
