{
 "cells": [
  {
   "cell_type": "markdown",
   "metadata": {},
   "source": [
    "# Problem 1"
   ]
  },
  {
   "cell_type": "code",
   "execution_count": 16,
   "metadata": {},
   "outputs": [],
   "source": [
    "from sympy import *\n",
    "init_printing(\"mathjax\")\n",
    "import random"
   ]
  },
  {
   "cell_type": "code",
   "execution_count": 17,
   "metadata": {},
   "outputs": [
    {
     "data": {
      "image/png": "[encoded data removed]",
      "text/latex": [
       "$$\\left ( 0, \\quad 99, \\quad 101\\right )$$"
      ],
      "text/plain": [
       "(0, 99, 101)"
      ]
     },
     "execution_count": 17,
     "metadata": {},
     "output_type": "execute_result"
    }
   ],
   "source": [
    "a = 0\n",
    "b = 99\n",
    "p = nextprime(b)\n",
    "a, b, p"
   ]
  },
  {
   "cell_type": "code",
   "execution_count": 18,
   "metadata": {},
   "outputs": [
    {
     "data": {
      "image/png": "[encoded data removed]",
      "text/latex": [
       "$$\\left ( 39, \\quad 10, \\quad 5\\right )$$"
      ],
      "text/plain": [
       "(39, 10, 5)"
      ]
     },
     "execution_count": 18,
     "metadata": {},
     "output_type": "execute_result"
    }
   ],
   "source": [
    "Z_p = list(range(p+1))\n",
    "secret = random.randint(a, b)\n",
    "shares = 10\n",
    "knowledge = 5\n",
    "secret,shares,knowledge"
   ]
  },
  {
   "cell_type": "markdown",
   "metadata": {},
   "source": [
    "**Step 1**"
   ]
  },
  {
   "cell_type": "code",
   "execution_count": 19,
   "metadata": {},
   "outputs": [
    {
     "data": {
      "image/png": "[encoded data removed]",
      "text/latex": [
       "$$\\left [ 85, \\quad 49, \\quad 72, \\quad 61, \\quad 24, \\quad 87, \\quad 78, \\quad 58, \\quad 16, \\quad 76\\right ]$$"
      ],
      "text/plain": [
       "[85, 49, 72, 61, 24, 87, 78, 58, 16, 76]"
      ]
     },
     "execution_count": 19,
     "metadata": {},
     "output_type": "execute_result"
    }
   ],
   "source": [
    "xi = random.sample(Z_p[1:], shares)\n",
    "xi"
   ]
  },
  {
   "cell_type": "markdown",
   "metadata": {},
   "source": [
    "**Step 2**"
   ]
  },
  {
   "cell_type": "code",
   "execution_count": 20,
   "metadata": {},
   "outputs": [
    {
     "data": {
      "image/png": "[encoded data removed]",
      "text/latex": [
       "$$\\left [ 15, \\quad 74, \\quad 82, \\quad 56\\right ]$$"
      ],
      "text/plain": [
       "[15, 74, 82, 56]"
      ]
     },
     "execution_count": 20,
     "metadata": {},
     "output_type": "execute_result"
    }
   ],
   "source": [
    "phi = random.choices(Z_p, k=knowledge-1)\n",
    "phi"
   ]
  },
  {
   "cell_type": "markdown",
   "metadata": {},
   "source": [
    "**Step 3**"
   ]
  },
  {
   "cell_type": "code",
   "execution_count": 21,
   "metadata": {},
   "outputs": [
    {
     "data": {
      "image/png": "[encoded data removed]",
      "text/latex": [
       "$$\\operatorname{Poly}{\\left( 56 x^{4} + 82 x^{3} + 74 x^{2} + 15 x + 39, x, domain=\\mathbb{Z} \\right)}$$"
      ],
      "text/plain": [
       "Poly(56*x**4 + 82*x**3 + 74*x**2 + 15*x + 39, x, domain='ZZ')"
      ]
     },
     "execution_count": 21,
     "metadata": {},
     "output_type": "execute_result"
    }
   ],
   "source": [
    "x = symbols('x', integer=True, positive=True)\n",
    "f = Poly(reversed([secret]+phi), x)\n",
    "f"
   ]
  },
  {
   "cell_type": "markdown",
   "metadata": {},
   "source": [
    "**Step 4**"
   ]
  },
  {
   "cell_type": "code",
   "execution_count": 22,
   "metadata": {},
   "outputs": [
    {
     "data": {
      "image/png": "[encoded data removed]",
      "text/latex": [
       "$$\\left [ 91, \\quad 13, \\quad 9, \\quad 27, \\quad 43, \\quad 7, \\quad 77, \\quad 31, \\quad 59, \\quad 11\\right ]$$"
      ],
      "text/plain": [
       "[91, 13, 9, 27, 43, 7, 77, 31, 59, 11]"
      ]
     },
     "execution_count": 22,
     "metadata": {},
     "output_type": "execute_result"
    }
   ],
   "source": [
    "f_xi = [f(x)%p for x in xi]\n",
    "f_xi"
   ]
  },
  {
   "cell_type": "code",
   "execution_count": 23,
   "metadata": {},
   "outputs": [
    {
     "data": {
      "image/png": "[encoded data removed]",
      "text/latex": [
       "$$\\left [ \\left ( 85, \\quad 91\\right ), \\quad \\left ( 49, \\quad 13\\right ), \\quad \\left ( 72, \\quad 9\\right ), \\quad \\left ( 61, \\quad 27\\right ), \\quad \\left ( 24, \\quad 43\\right ), \\quad \\left ( 87, \\quad 7\\right ), \\quad \\left ( 78, \\quad 77\\right ), \\quad \\left ( 58, \\quad 31\\right ), \\quad \\left ( 16, \\quad 59\\right ), \\quad \\left ( 76, \\quad 11\\right )\\right ]$$"
      ],
      "text/plain": [
       "[(85, 91), (49, 13), (72, 9), (61, 27), (24, 43), (87, 7), (78, 77), (58, 31),\n",
       " (16, 59), (76, 11)]"
      ]
     },
     "execution_count": 23,
     "metadata": {},
     "output_type": "execute_result"
    }
   ],
   "source": [
    "pairs = list(zip(xi, f_xi))\n",
    "pairs"
   ]
  },
  {
   "cell_type": "markdown",
   "metadata": {},
   "source": [
    "**Recovering the secret**"
   ]
  },
  {
   "cell_type": "code",
   "execution_count": 24,
   "metadata": {},
   "outputs": [
    {
     "data": {
      "image/png": "[encoded data removed]",
      "text/latex": [
       "$$\\left [ \\left ( 58, \\quad 31\\right ), \\quad \\left ( 85, \\quad 91\\right ), \\quad \\left ( 61, \\quad 27\\right ), \\quad \\left ( 87, \\quad 7\\right ), \\quad \\left ( 16, \\quad 59\\right )\\right ]$$"
      ],
      "text/plain": [
       "[(58, 31), (85, 91), (61, 27), (87, 7), (16, 59)]"
      ]
     },
     "execution_count": 24,
     "metadata": {},
     "output_type": "execute_result"
    }
   ],
   "source": [
    "data = random.sample(pairs, knowledge)\n",
    "data"
   ]
  },
  {
   "cell_type": "code",
   "execution_count": 25,
   "metadata": {},
   "outputs": [
    {
     "data": {
      "image/png": "[encoded data removed]",
      "text/latex": [
       "$$\\left ( \\left ( 58, \\quad 85, \\quad 61, \\quad 87, \\quad 16\\right ), \\quad \\left ( 31, \\quad 91, \\quad 27, \\quad 7, \\quad 59\\right )\\right )$$"
      ],
      "text/plain": [
       "((58, 85, 61, 87, 16), (31, 91, 27, 7, 59))"
      ]
     },
     "execution_count": 25,
     "metadata": {},
     "output_type": "execute_result"
    }
   ],
   "source": [
    "xi2, f_xi2 = list(zip(*data))\n",
    "xi2, f_xi2"
   ]
  },
  {
   "cell_type": "markdown",
   "metadata": {},
   "source": [
    "Source: https://stackoverflow.com/questions/4798654/modular-multiplicative-inverse-function-in-python/4798776"
   ]
  },
  {
   "cell_type": "code",
   "execution_count": 26,
   "metadata": {},
   "outputs": [],
   "source": [
    "def egcd(a, b):\n",
    "    if a == 0:\n",
    "        return (b, 0, 1)\n",
    "    else:\n",
    "        g, y, x = egcd(b % a, a)\n",
    "        return (g, x - (b // a) * y, y)\n",
    "\n",
    "def modinv(a, m):\n",
    "    g, x, y = egcd(a, m)\n",
    "    if g != 1:\n",
    "        raise Exception('modular inverse does not exist')\n",
    "    else:\n",
    "        return x % m"
   ]
  },
  {
   "cell_type": "code",
   "execution_count": 27,
   "metadata": {},
   "outputs": [],
   "source": [
    "def lagrange_interpolation(u, v):\n",
    "    assert len(u) == len(v)\n",
    "    n = len(u)\n",
    "    P = 0\n",
    "    for i in range(n):\n",
    "        s = v[i]\n",
    "        for j in range(n):\n",
    "            if i == j:\n",
    "                continue \n",
    "            s *= (x - u[j])*modinv((u[i]-u[j])%p, p)\n",
    "        P += s\n",
    "    return poly(expand(P, modulus=p))"
   ]
  },
  {
   "cell_type": "code",
   "execution_count": 28,
   "metadata": {},
   "outputs": [
    {
     "data": {
      "image/png": "[encoded data removed]",
      "text/latex": [
       "$$\\operatorname{Poly}{\\left( 56 x^{4} + 82 x^{3} + 74 x^{2} + 15 x + 39, x, domain=\\mathbb{Z} \\right)}$$"
      ],
      "text/plain": [
       "Poly(56*x**4 + 82*x**3 + 74*x**2 + 15*x + 39, x, domain='ZZ')"
      ]
     },
     "execution_count": 28,
     "metadata": {},
     "output_type": "execute_result"
    }
   ],
   "source": [
    "P = lagrange_interpolation(xi2, f_xi2)\n",
    "P"
   ]
  },
  {
   "cell_type": "markdown",
   "metadata": {},
   "source": [
    "Lets verify that our interpolation polynomial is correct."
   ]
  },
  {
   "cell_type": "code",
   "execution_count": 29,
   "metadata": {},
   "outputs": [
    {
     "data": {
      "text/plain": [
       "True"
      ]
     },
     "execution_count": 29,
     "metadata": {},
     "output_type": "execute_result"
    }
   ],
   "source": [
    "f==P"
   ]
  },
  {
   "cell_type": "markdown",
   "metadata": {},
   "source": [
    "Now we can recover the secret and verify that it is correct."
   ]
  },
  {
   "cell_type": "code",
   "execution_count": 30,
   "metadata": {},
   "outputs": [
    {
     "data": {
      "image/png": "[encoded data removed]",
      "text/latex": [
       "$$39$$"
      ],
      "text/plain": [
       "39"
      ]
     },
     "execution_count": 30,
     "metadata": {},
     "output_type": "execute_result"
    }
   ],
   "source": [
    "P(0)"
   ]
  },
  {
   "cell_type": "code",
   "execution_count": 31,
   "metadata": {},
   "outputs": [
    {
     "data": {
      "text/plain": [
       "True"
      ]
     },
     "execution_count": 31,
     "metadata": {},
     "output_type": "execute_result"
    }
   ],
   "source": [
    "P(0) == secret"
   ]
  }
 ],
 "metadata": {
  "kernelspec": {
   "display_name": "Python [default]",
   "language": "python",
   "name": "python3"
  },
  "language_info": {
   "codemirror_mode": {
    "name": "ipython",
    "version": 3
   },
   "file_extension": ".py",
   "mimetype": "text/x-python",
   "name": "python",
   "nbconvert_exporter": "python",
   "pygments_lexer": "ipython3",
   "version": "3.6.6"
  }
 },
 "nbformat": 4,
 "nbformat_minor": 2
}
