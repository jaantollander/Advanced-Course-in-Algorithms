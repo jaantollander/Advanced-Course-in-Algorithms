{
 "cells": [
  {
   "cell_type": "markdown",
   "metadata": {},
   "source": [
    "# Problem 1"
   ]
  },
  {
   "cell_type": "code",
   "execution_count": 1,
   "metadata": {},
   "outputs": [],
   "source": [
    "from sympy import *\n",
    "init_printing(\"mathjax\")\n",
    "import random"
   ]
  },
  {
   "cell_type": "code",
   "execution_count": 48,
   "metadata": {},
   "outputs": [
    {
     "data": {
      "image/png": "[encoded data removed]",
      "text/latex": [
       "$$\\left ( 0, \\quad 99, \\quad 101\\right )$$"
      ],
      "text/plain": [
       "(0, 99, 101)"
      ]
     },
     "execution_count": 48,
     "metadata": {},
     "output_type": "execute_result"
    }
   ],
   "source": [
    "a = 0\n",
    "b = 99\n",
    "p = nextprime(b)\n",
    "a, b, p"
   ]
  },
  {
   "cell_type": "code",
   "execution_count": 49,
   "metadata": {},
   "outputs": [
    {
     "data": {
      "image/png": "[encoded data removed]",
      "text/latex": [
       "$$\\left ( 42, \\quad 10, \\quad 5\\right )$$"
      ],
      "text/plain": [
       "(42, 10, 5)"
      ]
     },
     "execution_count": 49,
     "metadata": {},
     "output_type": "execute_result"
    }
   ],
   "source": [
    "Z_p = list(range(p+1))\n",
    "secret = random.randint(a, b)\n",
    "shares = 10\n",
    "knowledge = 5\n",
    "secret,shares,knowledge"
   ]
  },
  {
   "cell_type": "markdown",
   "metadata": {},
   "source": [
    "**Step 1**"
   ]
  },
  {
   "cell_type": "code",
   "execution_count": 50,
   "metadata": {},
   "outputs": [
    {
     "data": {
      "image/png": "[encoded data removed]",
      "text/latex": [
       "$$\\left [ 3, \\quad 51, \\quad 85, \\quad 33, \\quad 7, \\quad 35, \\quad 81, \\quad 2, \\quad 1, \\quad 26\\right ]$$"
      ],
      "text/plain": [
       "[3, 51, 85, 33, 7, 35, 81, 2, 1, 26]"
      ]
     },
     "execution_count": 50,
     "metadata": {},
     "output_type": "execute_result"
    }
   ],
   "source": [
    "xi = random.sample(Z_p[1:], shares)\n",
    "xi"
   ]
  },
  {
   "cell_type": "markdown",
   "metadata": {},
   "source": [
    "**Step 2**"
   ]
  },
  {
   "cell_type": "code",
   "execution_count": 51,
   "metadata": {},
   "outputs": [
    {
     "data": {
      "image/png": "[encoded data removed]",
      "text/latex": [
       "$$\\left [ 17, \\quad 42, \\quad 50, \\quad 9\\right ]$$"
      ],
      "text/plain": [
       "[17, 42, 50, 9]"
      ]
     },
     "execution_count": 51,
     "metadata": {},
     "output_type": "execute_result"
    }
   ],
   "source": [
    "phi = random.sample(Z_p, knowledge-1)\n",
    "phi"
   ]
  },
  {
   "cell_type": "markdown",
   "metadata": {},
   "source": [
    "**Step 3**"
   ]
  },
  {
   "cell_type": "code",
   "execution_count": 52,
   "metadata": {},
   "outputs": [
    {
     "data": {
      "image/png": "[encoded data removed]",
      "text/latex": [
       "$$\\operatorname{Poly}{\\left( 9 x^{4} + 50 x^{3} + 42 x^{2} + 17 x + 42, x, domain=\\mathbb{Z} \\right)}$$"
      ],
      "text/plain": [
       "Poly(9*x**4 + 50*x**3 + 42*x**2 + 17*x + 42, x, domain='ZZ')"
      ]
     },
     "execution_count": 52,
     "metadata": {},
     "output_type": "execute_result"
    }
   ],
   "source": [
    "x = symbols('x', integer=True, positive=True)\n",
    "f = Poly(reversed([secret]+phi), x)\n",
    "f"
   ]
  },
  {
   "cell_type": "markdown",
   "metadata": {},
   "source": [
    "**Step 4**"
   ]
  },
  {
   "cell_type": "code",
   "execution_count": 53,
   "metadata": {},
   "outputs": [
    {
     "data": {
      "image/png": "[encoded data removed]",
      "text/latex": [
       "$$\\left [ 25, \\quad 11, \\quad 30, \\quad 55, \\quad 73, \\quad 2, \\quad 42, \\quad 81, \\quad 59, \\quad 53\\right ]$$"
      ],
      "text/plain": [
       "[25, 11, 30, 55, 73, 2, 42, 81, 59, 53]"
      ]
     },
     "execution_count": 53,
     "metadata": {},
     "output_type": "execute_result"
    }
   ],
   "source": [
    "f_xi = [f(x)%p for x in xi]\n",
    "f_xi"
   ]
  },
  {
   "cell_type": "code",
   "execution_count": 54,
   "metadata": {},
   "outputs": [
    {
     "data": {
      "image/png": "[encoded data removed]",
      "text/latex": [
       "$$\\left [ \\left ( 3, \\quad 25\\right ), \\quad \\left ( 51, \\quad 11\\right ), \\quad \\left ( 85, \\quad 30\\right ), \\quad \\left ( 33, \\quad 55\\right ), \\quad \\left ( 7, \\quad 73\\right ), \\quad \\left ( 35, \\quad 2\\right ), \\quad \\left ( 81, \\quad 42\\right ), \\quad \\left ( 2, \\quad 81\\right ), \\quad \\left ( 1, \\quad 59\\right ), \\quad \\left ( 26, \\quad 53\\right )\\right ]$$"
      ],
      "text/plain": [
       "[(3, 25), (51, 11), (85, 30), (33, 55), (7, 73), (35, 2), (81, 42), (2, 81), (\n",
       "1, 59), (26, 53)]"
      ]
     },
     "execution_count": 54,
     "metadata": {},
     "output_type": "execute_result"
    }
   ],
   "source": [
    "pairs = list(zip(xi, f_xi))\n",
    "pairs"
   ]
  },
  {
   "cell_type": "markdown",
   "metadata": {},
   "source": [
    "**Recovering the secret**"
   ]
  },
  {
   "cell_type": "code",
   "execution_count": 55,
   "metadata": {},
   "outputs": [
    {
     "data": {
      "image/png": "[encoded data removed]",
      "text/latex": [
       "$$\\left [ \\left ( 81, \\quad 42\\right ), \\quad \\left ( 3, \\quad 25\\right ), \\quad \\left ( 1, \\quad 59\\right ), \\quad \\left ( 7, \\quad 73\\right ), \\quad \\left ( 85, \\quad 30\\right )\\right ]$$"
      ],
      "text/plain": [
       "[(81, 42), (3, 25), (1, 59), (7, 73), (85, 30)]"
      ]
     },
     "execution_count": 55,
     "metadata": {},
     "output_type": "execute_result"
    }
   ],
   "source": [
    "data = random.sample(pairs, knowledge)\n",
    "data"
   ]
  },
  {
   "cell_type": "code",
   "execution_count": 56,
   "metadata": {},
   "outputs": [
    {
     "data": {
      "image/png": "[encoded data removed]",
      "text/latex": [
       "$$\\left ( \\left ( 81, \\quad 3, \\quad 1, \\quad 7, \\quad 85\\right ), \\quad \\left ( 42, \\quad 25, \\quad 59, \\quad 73, \\quad 30\\right )\\right )$$"
      ],
      "text/plain": [
       "((81, 3, 1, 7, 85), (42, 25, 59, 73, 30))"
      ]
     },
     "execution_count": 56,
     "metadata": {},
     "output_type": "execute_result"
    }
   ],
   "source": [
    "xi2, f_xi2 = list(zip(*data))\n",
    "xi2, f_xi2"
   ]
  },
  {
   "cell_type": "markdown",
   "metadata": {},
   "source": [
    "Source: https://stackoverflow.com/questions/4798654/modular-multiplicative-inverse-function-in-python/4798776"
   ]
  },
  {
   "cell_type": "code",
   "execution_count": 57,
   "metadata": {},
   "outputs": [],
   "source": [
    "def egcd(a, b):\n",
    "    if a == 0:\n",
    "        return (b, 0, 1)\n",
    "    else:\n",
    "        g, y, x = egcd(b % a, a)\n",
    "        return (g, x - (b // a) * y, y)\n",
    "\n",
    "def modinv(a, m):\n",
    "    g, x, y = egcd(a, m)\n",
    "    if g != 1:\n",
    "        raise Exception('modular inverse does not exist')\n",
    "    else:\n",
    "        return x % m"
   ]
  },
  {
   "cell_type": "code",
   "execution_count": 58,
   "metadata": {},
   "outputs": [],
   "source": [
    "def lagrange_interpolation(u, v):\n",
    "    assert len(u) == len(v)\n",
    "    n = len(u)\n",
    "    P = 0\n",
    "    for i in range(n):\n",
    "        s = v[i]\n",
    "        for j in range(n):\n",
    "            if i == j:\n",
    "                continue \n",
    "            s *= (x - u[j])*modinv((u[i]-u[j])%p, p)\n",
    "        P += s\n",
    "    return poly(expand(P, modulus=p))"
   ]
  },
  {
   "cell_type": "code",
   "execution_count": 59,
   "metadata": {},
   "outputs": [
    {
     "data": {
      "image/png": "[encoded data removed]",
      "text/latex": [
       "$$\\operatorname{Poly}{\\left( 9 x^{4} + 50 x^{3} + 42 x^{2} + 17 x + 42, x, domain=\\mathbb{Z} \\right)}$$"
      ],
      "text/plain": [
       "Poly(9*x**4 + 50*x**3 + 42*x**2 + 17*x + 42, x, domain='ZZ')"
      ]
     },
     "execution_count": 59,
     "metadata": {},
     "output_type": "execute_result"
    }
   ],
   "source": [
    "P = lagrange_interpolation(xi2, f_xi2)\n",
    "P"
   ]
  },
  {
   "cell_type": "markdown",
   "metadata": {},
   "source": [
    "Lets verify that our interpolation polynomial is correct."
   ]
  },
  {
   "cell_type": "code",
   "execution_count": 60,
   "metadata": {},
   "outputs": [
    {
     "data": {
      "text/plain": [
       "True"
      ]
     },
     "execution_count": 60,
     "metadata": {},
     "output_type": "execute_result"
    }
   ],
   "source": [
    "f==P"
   ]
  },
  {
   "cell_type": "markdown",
   "metadata": {},
   "source": [
    "Now we can recover the secret and verify that it is correct."
   ]
  },
  {
   "cell_type": "code",
   "execution_count": 61,
   "metadata": {},
   "outputs": [
    {
     "data": {
      "image/png": "[encoded data removed]",
      "text/latex": [
       "$$42$$"
      ],
      "text/plain": [
       "42"
      ]
     },
     "execution_count": 61,
     "metadata": {},
     "output_type": "execute_result"
    }
   ],
   "source": [
    "P(0)"
   ]
  },
  {
   "cell_type": "code",
   "execution_count": 62,
   "metadata": {},
   "outputs": [
    {
     "data": {
      "text/plain": [
       "True"
      ]
     },
     "execution_count": 62,
     "metadata": {},
     "output_type": "execute_result"
    }
   ],
   "source": [
    "P(0) == secret"
   ]
  }
 ],
 "metadata": {
  "kernelspec": {
   "display_name": "Python [default]",
   "language": "python",
   "name": "python3"
  },
  "language_info": {
   "codemirror_mode": {
    "name": "ipython",
    "version": 3
   },
   "file_extension": ".py",
   "mimetype": "text/x-python",
   "name": "python",
   "nbconvert_exporter": "python",
   "pygments_lexer": "ipython3",
   "version": "3.6.6"
  }
 },
 "nbformat": 4,
 "nbformat_minor": 2
}
